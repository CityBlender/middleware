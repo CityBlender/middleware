{
 "cells": [
  {
   "cell_type": "markdown",
   "metadata": {},
   "source": [
    "## LAST FM DATA EXPLORATION\n",
    "With API"
   ]
  },
  {
   "cell_type": "markdown",
   "metadata": {},
   "source": [
    "**Some credential stuff:**\n",
    "* Application name \tFrinki Blender\n",
    "* API key \t611ec342a0b68cc4b91848b43b45900f\n",
    "* Shared secret \tc1ec721096b0e241d30d9f0c19516c29\n",
    "* Registered to \tUrban_Ant"
   ]
  },
  {
   "cell_type": "code",
   "execution_count": 2,
   "metadata": {},
   "outputs": [],
   "source": [
    "# Invite the big guys\n",
    "import pandas as pd\n",
    "#import urllib2\n",
    "from bs4 import BeautifulSoup as soup\n",
    "from IPython.display import HTML\n",
    "import requests\n",
    "import json\n",
    "import requests\n",
    "import itertools\n",
    "import time\n",
    "import datetime\n",
    "import numpy as np"
   ]
  },
  {
   "cell_type": "code",
   "execution_count": 3,
   "metadata": {},
   "outputs": [],
   "source": [
    "# The API Key\n",
    "key = '611ec342a0b68cc4b91848b43b45900f'"
   ]
  },
  {
   "cell_type": "code",
   "execution_count": null,
   "metadata": {},
   "outputs": [],
   "source": []
  }
 ],
 "metadata": {
  "kernelspec": {
   "display_name": "Python 3",
   "language": "python",
   "name": "python3"
  },
  "language_info": {
   "codemirror_mode": {
    "name": "ipython",
    "version": 3
   },
   "file_extension": ".py",
   "mimetype": "text/x-python",
   "name": "python",
   "nbconvert_exporter": "python",
   "pygments_lexer": "ipython3",
   "version": "3.6.2"
  }
 },
 "nbformat": 4,
 "nbformat_minor": 2
}
